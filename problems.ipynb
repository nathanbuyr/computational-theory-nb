{
 "cells": [
  {
   "cell_type": "markdown",
   "id": "ebd833ca",
   "metadata": {
    "vscode": {
     "languageId": "plaintext"
    }
   },
   "source": [
    "## Computantional Theory Problems | Nathan Buyrchiyev"
   ]
  },
  {
   "cell_type": "markdown",
   "id": "99b8816c",
   "metadata": {},
   "source": [
    "## Problem 1: Binary Words and Operations"
   ]
  },
  {
   "cell_type": "code",
   "execution_count": null,
   "id": "e08f64ca",
   "metadata": {},
   "outputs": [],
   "source": []
  },
  {
   "cell_type": "markdown",
   "id": "65c3bb58",
   "metadata": {},
   "source": [
    "## Problem 2: Fractional Parts of Cube Roots"
   ]
  },
  {
   "cell_type": "code",
   "execution_count": null,
   "id": "7d2cabcf",
   "metadata": {},
   "outputs": [],
   "source": []
  },
  {
   "cell_type": "markdown",
   "id": "365b129d",
   "metadata": {},
   "source": [
    "## Problem 3: Padding\n"
   ]
  },
  {
   "cell_type": "code",
   "execution_count": null,
   "id": "566df954",
   "metadata": {},
   "outputs": [],
   "source": []
  },
  {
   "cell_type": "markdown",
   "id": "51f49031",
   "metadata": {},
   "source": [
    "## Problem 4: Hashes\n"
   ]
  },
  {
   "cell_type": "code",
   "execution_count": null,
   "id": "e53e1cf3",
   "metadata": {},
   "outputs": [],
   "source": []
  },
  {
   "cell_type": "markdown",
   "id": "293cf0ae",
   "metadata": {},
   "source": [
    "## Problem 5: Passwords\n"
   ]
  },
  {
   "cell_type": "code",
   "execution_count": null,
   "id": "582edf9b",
   "metadata": {},
   "outputs": [],
   "source": []
  },
  {
   "cell_type": "markdown",
   "id": "e15a303f",
   "metadata": {
    "vscode": {
     "languageId": "plaintext"
    }
   },
   "source": [
    "## End"
   ]
  }
 ],
 "metadata": {
  "kernelspec": {
   "display_name": "Python 3",
   "language": "python",
   "name": "python3"
  },
  "language_info": {
   "codemirror_mode": {
    "name": "ipython",
    "version": 3
   },
   "file_extension": ".py",
   "mimetype": "text/x-python",
   "name": "python",
   "nbconvert_exporter": "python",
   "pygments_lexer": "ipython3",
   "version": "3.12.1"
  }
 },
 "nbformat": 4,
 "nbformat_minor": 5
}
