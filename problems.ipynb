{
 "cells": [
  {
   "cell_type": "markdown",
   "id": "ebd833ca",
   "metadata": {
    "vscode": {
     "languageId": "plaintext"
    }
   },
   "source": [
    "## Computantional Theory Problems | Nathan Buyrchiyev"
   ]
  },
  {
   "cell_type": "code",
   "execution_count": 4,
   "id": "5b3c7633",
   "metadata": {},
   "outputs": [],
   "source": [
    "import numpy as np"
   ]
  },
  {
   "cell_type": "markdown",
   "id": "99b8816c",
   "metadata": {},
   "source": [
    "## Problem 1: Binary Words and Operations"
   ]
  },
  {
   "cell_type": "code",
   "execution_count": null,
   "id": "e08f64ca",
   "metadata": {},
   "outputs": [],
   "source": [
    "def parity(x, y, z):\n",
    "    \"\"\"\n",
    "    Calculates the bitwise XOR of three 32-bit unsigned integers.\n",
    "\n",
    "    This function takes three numbers, converts them to 32-bit unsigned\n",
    "    integers, and then computes their bitwise XOR. This operation is\n",
    "    equivalent to calculating the parity for each bit position across\n",
    "    the three numbers.\n",
    "\n",
    "    Args:\n",
    "        x: The first integer.\n",
    "        y: The second integer.\n",
    "        z: The third integer.\n",
    "\n",
    "    Returns:\n",
    "        A 32-bit unsigned integer representing the bitwise XOR of x, y, and z.\n",
    "    \"\"\"\n",
    "    x = np.uint32(x)\n",
    "    y = np.uint32(y)\n",
    "    z = np.uint32(z)\n",
    "    \n",
    "    return x ^ y ^ z"
   ]
  },
  {
   "cell_type": "code",
   "execution_count": 18,
   "id": "f2a37303",
   "metadata": {},
   "outputs": [
    {
     "name": "stdout",
     "output_type": "stream",
     "text": [
      "--- Basic Tests ---\n",
      "Parity(1, 2, 3) = 0x0\n",
      "Parity(0, 0, 0) = 0x0\n",
      "\n",
      "--- Same Value Tests ---\n",
      "Parity(5, 5, 5) = 0x5\n",
      "Parity(10, 20, 10) = 0x14\n",
      "\n",
      "--- Hash-like Value Tests ---\n",
      "Parity(0xdeadbeef, 0xbadf00d, 0x12345678) = 0xc734189a\n",
      "Parity(hash('hello'), hash('world'), hash('parity')) = 0x14311566\n",
      "\n",
      "--- Binary Value Tests ---\n",
      "Parity(0b101, 0b010, 0b111) = 0x0\n",
      "Parity(1, 1, 0) = 0x0\n"
     ]
    }
   ],
   "source": [
    "\n",
    "print(\"--- Basic Tests ---\")\n",
    "# 1 (01) ^ 2 (10) = 3 (11). 3 (11) ^ 3 (11) = 0 (00). Expected: 0x0\n",
    "test_1 = parity(1, 2, 3) \n",
    "print(f\"Parity(1, 2, 3) = {hex(test_1)}\")\n",
    "\n",
    "# 0 ^ 0 = 0. 0 ^ 0 = 0. Expected: 0x0\n",
    "test_2 = parity(0, 0, 0)\n",
    "print(f\"Parity(0, 0, 0) = {hex(test_2)}\")\n",
    "\n",
    "print(\"\\n--- Same Value Tests ---\")\n",
    "# 5 ^ 5 = 0. 0 ^ 5 = 5. Expected: 0x5\n",
    "test_3 = parity(5, 5, 5)\n",
    "print(f\"Parity(5, 5, 5) = {hex(test_3)}\")\n",
    "\n",
    "# The two 10s cancel out. 10 ^ 10 = 0. 0 ^ 20 = 20. Expected: 0x14\n",
    "test_4 = parity(10, 20, 10)\n",
    "print(f\"Parity(10, 20, 10) = {hex(test_4)}\")\n",
    "\n",
    "print(\"\\n--- Hash-like Value Tests ---\")\n",
    "# Using large integers that resemble hash values\n",
    "val_1 = 0xdeadbeef\n",
    "val_2 = 0xbadf00d\n",
    "val_3 = 0x12345678\n",
    "test_5 = parity(val_1, val_2, val_3)\n",
    "print(f\"Parity({hex(val_1)}, {hex(val_2)}, {hex(val_3)}) = {hex(test_5)}\")\n",
    "\n",
    "# Using Python's hash() function, mask to 32 bits to avoid OverflowError\n",
    "h1 = hash(\"hello\") & 0xFFFFFFFF\n",
    "h2 = hash(\"world\") & 0xFFFFFFFF\n",
    "h3 = hash(\"parity\") & 0xFFFFFFFF\n",
    "test_6 = parity(h1, h2, h3)\n",
    "print(f\"Parity(hash('hello'), hash('world'), hash('parity')) = {hex(test_6)}\")\n",
    "\n",
    "print(\"\\n--- Binary Value Tests ---\")\n",
    "# Using binary literals\n",
    "# 0b101 (5) ^ 0b010 (2) = 0b111 (7). 0b111 (7) ^ 0b111 (7) = 0. Expected: 0x0\n",
    "test_7 = parity(0b101, 0b010, 0b111)\n",
    "print(f\"Parity(0b101, 0b010, 0b111) = {hex(test_7)}\")\n",
    "\n",
    "# 1 ^ 1 = 0. 0 ^ 0 = 0. Expected: 0x0\n",
    "test_8 = parity(1, 1, 0)\n",
    "print(f\"Parity(1, 1, 0) = {hex(test_8)}\")"
   ]
  },
  {
   "cell_type": "markdown",
   "id": "65c3bb58",
   "metadata": {},
   "source": [
    "## Problem 2: Fractional Parts of Cube Roots"
   ]
  },
  {
   "cell_type": "code",
   "execution_count": null,
   "id": "7d2cabcf",
   "metadata": {},
   "outputs": [],
   "source": []
  },
  {
   "cell_type": "markdown",
   "id": "365b129d",
   "metadata": {},
   "source": [
    "## Problem 3: Padding\n"
   ]
  },
  {
   "cell_type": "code",
   "execution_count": null,
   "id": "566df954",
   "metadata": {},
   "outputs": [],
   "source": []
  },
  {
   "cell_type": "markdown",
   "id": "51f49031",
   "metadata": {},
   "source": [
    "## Problem 4: Hashes\n"
   ]
  },
  {
   "cell_type": "code",
   "execution_count": null,
   "id": "e53e1cf3",
   "metadata": {},
   "outputs": [],
   "source": []
  },
  {
   "cell_type": "markdown",
   "id": "293cf0ae",
   "metadata": {},
   "source": [
    "## Problem 5: Passwords\n"
   ]
  },
  {
   "cell_type": "code",
   "execution_count": null,
   "id": "582edf9b",
   "metadata": {},
   "outputs": [],
   "source": []
  },
  {
   "cell_type": "markdown",
   "id": "e15a303f",
   "metadata": {
    "vscode": {
     "languageId": "plaintext"
    }
   },
   "source": [
    "## End"
   ]
  }
 ],
 "metadata": {
  "kernelspec": {
   "display_name": "Python 3",
   "language": "python",
   "name": "python3"
  },
  "language_info": {
   "codemirror_mode": {
    "name": "ipython",
    "version": 3
   },
   "file_extension": ".py",
   "mimetype": "text/x-python",
   "name": "python",
   "nbconvert_exporter": "python",
   "pygments_lexer": "ipython3",
   "version": "3.12.1"
  }
 },
 "nbformat": 4,
 "nbformat_minor": 5
}
