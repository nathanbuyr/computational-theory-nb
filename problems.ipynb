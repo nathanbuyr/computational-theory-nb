{
 "cells": [
  {
   "cell_type": "markdown",
   "id": "ebd833ca",
   "metadata": {
    "vscode": {
     "languageId": "plaintext"
    }
   },
   "source": [
    "## Computantional Theory Problems | Nathan Buyrchiyev"
   ]
  },
  {
   "cell_type": "code",
   "execution_count": 20,
   "id": "5b3c7633",
   "metadata": {},
   "outputs": [],
   "source": [
    "import numpy as np"
   ]
  },
  {
   "cell_type": "markdown",
   "id": "99b8816c",
   "metadata": {},
   "source": [
    "## Problem 1: Binary Words and Operations"
   ]
  },
  {
   "cell_type": "markdown",
   "id": "129e8766",
   "metadata": {},
   "source": [
    "\n",
    "### Section 1.1 Parity\n",
    "\n",
    "The parity function is a simple bitwise operation that shows up in some cryptographic hash functions like SHA-1.\n",
    "It takes three 32-bit values (x, y, and z) and compares their bits one by one.\n",
    "For each bit position, it returns 1 if an odd number of the bits are 1 — and 0 otherwise.\n",
    "\n",
    "So basically, it’s checking whether the number of 1s across the three inputs is odd.\n",
    "That’s why it’s called a “parity” function — it’s about whether the bits have even or odd parity.\n",
    "\n",
    "In math form, it’s written as:\n",
    "\n",
    "Parity(x,y,z)=x⊕y⊕z\n",
    "\n",
    "The ⊕ symbol just means XOR (exclusive OR). XOR itself already behaves like a parity check:\n",
    "\n",
    "If you XOR two bits and both are the same (0⊕0 or 1⊕1), you get 0.\n",
    "\n",
    "If they’re different (0⊕1 or 1⊕0), you get 1.\n",
    "\n",
    "So when you extend that to three inputs, XOR effectively gives you 1 whenever an odd number of bits are set.\n",
    "\n",
    "In hash functions, this kind of operation helps mix bits together — it’s good for diffusion, meaning that flipping even one input bit can completely change the output. It also adds a bit of non-linearity, which makes the function harder to reverse-engineer.\n",
    "\n",
    "I’m using NumPy’s 32-bit unsigned integer type (np.uint32) here so that it behaves more like a low-level operation, similar to how it would in C or in an actual hash algorithm implementation.\n",
    "\n",
    "This implementation mirrors how the **Parity** function is defined in the Secure Hash Standard (FIPS PUB 180-4).  "
   ]
  },
  {
   "cell_type": "code",
   "execution_count": 21,
   "id": "e08f64ca",
   "metadata": {},
   "outputs": [],
   "source": [
    "def parity(x, y, z):\n",
    "    \"\"\"\n",
    "    Calculates the bitwise XOR of three 32-bit unsigned integers.\n",
    "\n",
    "    This function takes three numbers, converts them to 32-bit unsigned\n",
    "    integers, and then computes their bitwise XOR. This operation is\n",
    "    equivalent to calculating the parity for each bit position across\n",
    "    the three numbers.\n",
    "\n",
    "    Args:\n",
    "        x: The first integer.\n",
    "        y: The second integer.\n",
    "        z: The third integer.\n",
    "\n",
    "    Returns:\n",
    "        A 32-bit unsigned integer representing the bitwise XOR of x, y, and z.\n",
    "    \"\"\"\n",
    "    x = np.uint32(x)\n",
    "    y = np.uint32(y)\n",
    "    z = np.uint32(z)\n",
    "    \n",
    "    return x ^ y ^ z"
   ]
  },
  {
   "cell_type": "code",
   "execution_count": 22,
   "id": "f2a37303",
   "metadata": {},
   "outputs": [
    {
     "name": "stdout",
     "output_type": "stream",
     "text": [
      "--- Basic Tests ---\n",
      "Parity(1, 2, 3) = 0x0\n",
      "Parity(0, 0, 0) = 0x0\n",
      "\n",
      "--- Same Value Tests ---\n",
      "Parity(5, 5, 5) = 0x5\n",
      "Parity(10, 20, 10) = 0x14\n",
      "\n",
      "--- Hash-like Value Tests ---\n",
      "Parity(0xdeadbeef, 0xbadf00d, 0x12345678) = 0xc734189a\n",
      "Parity(hash('hello'), hash('world'), hash('parity')) = 0xb7c0645a\n",
      "\n",
      "--- Binary Value Tests ---\n",
      "Parity(0b101, 0b010, 0b111) = 0x0\n",
      "Parity(1, 1, 0) = 0x0\n"
     ]
    }
   ],
   "source": [
    "\n",
    "print(\"--- Basic Tests ---\")\n",
    "# 1 (01) ^ 2 (10) = 3 (11). 3 (11) ^ 3 (11) = 0 (00). Expected: 0x0\n",
    "test_1 = parity(1, 2, 3) \n",
    "print(f\"Parity(1, 2, 3) = {hex(test_1)}\")\n",
    "\n",
    "# 0 ^ 0 = 0. 0 ^ 0 = 0. Expected: 0x0\n",
    "test_2 = parity(0, 0, 0)\n",
    "print(f\"Parity(0, 0, 0) = {hex(test_2)}\")\n",
    "\n",
    "print(\"\\n--- Same Value Tests ---\")\n",
    "# 5 ^ 5 = 0. 0 ^ 5 = 5. Expected: 0x5\n",
    "test_3 = parity(5, 5, 5)\n",
    "print(f\"Parity(5, 5, 5) = {hex(test_3)}\")\n",
    "\n",
    "# The two 10s cancel out. 10 ^ 10 = 0. 0 ^ 20 = 20. Expected: 0x14\n",
    "test_4 = parity(10, 20, 10)\n",
    "print(f\"Parity(10, 20, 10) = {hex(test_4)}\")\n",
    "\n",
    "print(\"\\n--- Hash-like Value Tests ---\")\n",
    "# Using large integers that resemble hash values\n",
    "val_1 = 0xdeadbeef\n",
    "val_2 = 0xbadf00d\n",
    "val_3 = 0x12345678\n",
    "test_5 = parity(val_1, val_2, val_3)\n",
    "print(f\"Parity({hex(val_1)}, {hex(val_2)}, {hex(val_3)}) = {hex(test_5)}\")\n",
    "\n",
    "# Using Python's hash() function, mask to 32 bits to avoid OverflowError\n",
    "h1 = hash(\"hello\") & 0xFFFFFFFF\n",
    "h2 = hash(\"world\") & 0xFFFFFFFF\n",
    "h3 = hash(\"parity\") & 0xFFFFFFFF\n",
    "test_6 = parity(h1, h2, h3)\n",
    "print(f\"Parity(hash('hello'), hash('world'), hash('parity')) = {hex(test_6)}\")\n",
    "\n",
    "print(\"\\n--- Binary Value Tests ---\")\n",
    "# Using binary literals\n",
    "# 0b101 (5) ^ 0b010 (2) = 0b111 (7). 0b111 (7) ^ 0b111 (7) = 0. Expected: 0x0\n",
    "test_7 = parity(0b101, 0b010, 0b111)\n",
    "print(f\"Parity(0b101, 0b010, 0b111) = {hex(test_7)}\")\n",
    "\n",
    "# 1 ^ 1 = 0. 0 ^ 0 = 0. Expected: 0x0\n",
    "test_8 = parity(1, 1, 0)\n",
    "print(f\"Parity(1, 1, 0) = {hex(test_8)}\")"
   ]
  },
  {
   "cell_type": "code",
   "execution_count": 23,
   "id": "7c3aea48",
   "metadata": {},
   "outputs": [],
   "source": [
    "def ch(x, y, z):\n",
    "    x = np.uint32(x)\n",
    "    y = np.uint32(y)\n",
    "    z = np.uint32(z)\n",
    "\n",
    "    return (x & y) ^ (~x & z)"
   ]
  },
  {
   "cell_type": "code",
   "execution_count": 24,
   "id": "f3fc88f1",
   "metadata": {},
   "outputs": [
    {
     "name": "stdout",
     "output_type": "stream",
     "text": [
      "--- Basic Tests ---\n",
      "Ch(1, 2, 3) = 0x2\n",
      "Ch(0, 10, 5) = 0x5\n",
      "Ch(0xFFFFFFFF, 9, 12) = 0x9\n",
      "\n",
      "--- Same Value Tests ---\n",
      "Ch(7, 10, 10) = 0xa\n",
      "Ch(0b1010, 0b1111, 0b0000) = 0xa\n",
      "\n",
      "--- Hash-like Value Tests ---\n",
      "Ch(0xdeadbeef, 0xbadf00d, 0x12345678) = 0xabdf01d\n",
      "Ch(hash('choose'), hash('function'), hash('test')) = 0x44667c73\n",
      "\n",
      "--- Binary Value Tests ---\n",
      "Ch(0b101, 0b111, 0b000) = 0x5\n",
      "Ch(0b010, 0b111, 0b000) = 0x2\n"
     ]
    }
   ],
   "source": [
    "print(\"--- Basic Tests ---\")\n",
    "# For each bit: if x = 1, take y’s bit; if x = 0, take z’s bit.\n",
    "# x = 1 (01), y = 2 (10), z = 3 (11)\n",
    "# Bitwise: 01 → choose y’s bit (10) for lower bit, z’s bit (11) for upper bit → Expected: 0x2\n",
    "test_1 = ch(1, 2, 3)\n",
    "print(f\"Ch(1, 2, 3) = {hex(test_1)}\")\n",
    "\n",
    "# If x = 0, we always choose z. Expected: z = 0x5\n",
    "test_2 = ch(0, 10, 5)\n",
    "print(f\"Ch(0, 10, 5) = {hex(test_2)}\")\n",
    "\n",
    "# If x = all 1s, we always choose y. Expected: y = 0x9\n",
    "test_3 = ch(0xFFFFFFFF, 9, 12)\n",
    "print(f\"Ch(0xFFFFFFFF, 9, 12) = {hex(test_3)}\")\n",
    "\n",
    "print(\"\\n--- Same Value Tests ---\")\n",
    "# If y and z are the same, Ch always returns that value, no matter what x is.\n",
    "# Expected: 0xA\n",
    "test_4 = ch(7, 10, 10)\n",
    "print(f\"Ch(7, 10, 10) = {hex(test_4)}\")\n",
    "\n",
    "# If x alternates bits (0b1010) and y/z are opposites,\n",
    "# result should pick alternating bits: 0b1010 from y=0b1111, z=0b0000 → Expected: 0b1010 (0xA)\n",
    "test_5 = ch(0b1010, 0b1111, 0b0000)\n",
    "print(f\"Ch(0b1010, 0b1111, 0b0000) = {hex(test_5)}\")\n",
    "\n",
    "print(\"\\n--- Hash-like Value Tests ---\")\n",
    "# Using large integers to simulate hash-like inputs\n",
    "val_1 = 0xdeadbeef\n",
    "val_2 = 0xbadf00d\n",
    "val_3 = 0x12345678\n",
    "test_6 = ch(val_1, val_2, val_3)\n",
    "print(f\"Ch({hex(val_1)}, {hex(val_2)}, {hex(val_3)}) = {hex(test_6)}\")\n",
    "\n",
    "# Using Python hash() masked to 32 bits\n",
    "h1 = hash(\"choose\") & 0xFFFFFFFF\n",
    "h2 = hash(\"function\") & 0xFFFFFFFF\n",
    "h3 = hash(\"test\") & 0xFFFFFFFF\n",
    "test_7 = ch(h1, h2, h3)\n",
    "print(f\"Ch(hash('choose'), hash('function'), hash('test')) = {hex(test_7)}\")\n",
    "\n",
    "print(\"\\n--- Binary Value Tests ---\")\n",
    "# x = 0b101, y = 0b111, z = 0b000 → picks bits from y when x=1 → Expected: 0b101 (0x5)\n",
    "test_8 = ch(0b101, 0b111, 0b000)\n",
    "print(f\"Ch(0b101, 0b111, 0b000) = {hex(test_8)}\")\n",
    "\n",
    "# x = 0b010, y = 0b111, z = 0b000 → only middle bit from y → Expected: 0b010 (0x2)\n",
    "test_9 = ch(0b010, 0b111, 0b000)\n",
    "print(f\"Ch(0b010, 0b111, 0b000) = {hex(test_9)}\")\n"
   ]
  },
  {
   "cell_type": "markdown",
   "id": "65c3bb58",
   "metadata": {},
   "source": [
    "## Problem 2: Fractional Parts of Cube Roots"
   ]
  },
  {
   "cell_type": "code",
   "execution_count": null,
   "id": "7d2cabcf",
   "metadata": {},
   "outputs": [],
   "source": []
  },
  {
   "cell_type": "markdown",
   "id": "365b129d",
   "metadata": {},
   "source": [
    "## Problem 3: Padding\n"
   ]
  },
  {
   "cell_type": "code",
   "execution_count": null,
   "id": "566df954",
   "metadata": {},
   "outputs": [],
   "source": []
  },
  {
   "cell_type": "markdown",
   "id": "51f49031",
   "metadata": {},
   "source": [
    "## Problem 4: Hashes\n"
   ]
  },
  {
   "cell_type": "code",
   "execution_count": null,
   "id": "e53e1cf3",
   "metadata": {},
   "outputs": [],
   "source": []
  },
  {
   "cell_type": "markdown",
   "id": "293cf0ae",
   "metadata": {},
   "source": [
    "## Problem 5: Passwords\n"
   ]
  },
  {
   "cell_type": "code",
   "execution_count": null,
   "id": "582edf9b",
   "metadata": {},
   "outputs": [],
   "source": []
  },
  {
   "cell_type": "markdown",
   "id": "e15a303f",
   "metadata": {
    "vscode": {
     "languageId": "plaintext"
    }
   },
   "source": [
    "## End"
   ]
  }
 ],
 "metadata": {
  "kernelspec": {
   "display_name": "Python 3",
   "language": "python",
   "name": "python3"
  },
  "language_info": {
   "codemirror_mode": {
    "name": "ipython",
    "version": 3
   },
   "file_extension": ".py",
   "mimetype": "text/x-python",
   "name": "python",
   "nbconvert_exporter": "python",
   "pygments_lexer": "ipython3",
   "version": "3.12.1"
  }
 },
 "nbformat": 4,
 "nbformat_minor": 5
}
